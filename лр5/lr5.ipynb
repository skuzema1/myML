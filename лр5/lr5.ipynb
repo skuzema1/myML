{
 "cells": [
  {
   "cell_type": "markdown",
   "metadata": {},
   "source": [
    "# Лабораторная работа №5: Машины опорных векторов  \n",
    "\n",
    "*Модели*: PCR, Случайный лес, kNN\n",
    "\n",
    "*Данные*: (источник: https://raw.githubusercontent.com/ania607/ML/main/data/default_of_credit_card_clients.csv)"
   ]
  },
  {
   "cell_type": "markdown",
   "metadata": {},
   "source": [
    "# Загружаем пакеты"
   ]
  },
  {
   "cell_type": "code",
   "execution_count": 1,
   "metadata": {},
   "outputs": [],
   "source": [
    "# загрузка пакетов: инструменты -----------------------\n",
    "#  работа с массивами\n",
    "import numpy as np\n",
    "#  фреймы данных\n",
    "import pandas as pd\n",
    "#  графики\n",
    "import matplotlib as mpl\n",
    "#  стили и шаблоны графиков на основе matplotlib\n",
    "import seaborn as sns\n",
    "\n",
    "# загрузка пакетов: модели ----------------------------\n",
    "# метод частных наименьших квадратов\n",
    "from sklearn.cross_decomposition import PLSRegression\n",
    "#  логистическая регрессия (ММП)\n",
    "from sklearn.linear_model import LogisticRegression\n",
    "#  линейный дискриминантный анализ (LDA)\n",
    "from sklearn.discriminant_analysis import LinearDiscriminantAnalysis\n",
    "#  квадратичный дискриминантный анализ (QDA)\n",
    "from sklearn.discriminant_analysis import QuadraticDiscriminantAnalysis\n",
    "#  матрица неточностей\n",
    "from sklearn.metrics import classification_report, confusion_matrix\n",
    "#  визуализация матрицы неточностей\n",
    "from sklearn.metrics import plot_confusion_matrix\n",
    "#  PPV (TP / (TP + FP))\n",
    "from sklearn.metrics import precision_score\n",
    "#  расчёт TPR, SPC, F1\n",
    "from sklearn.metrics import precision_recall_fscore_support\n",
    "#  ROC-кривая\n",
    "from sklearn.metrics import plot_roc_curve, roc_curve, auc, RocCurveDisplay\n",
    "#  подготовка матрицы X для модели регрессии\n",
    "from statsmodels.api import add_constant\n",
    "#  модель логистической регрессии\n",
    "from statsmodels.formula.api import logit\n",
    "#  стандартизация показателей\n",
    "from sklearn.preprocessing import StandardScaler\n",
    "#  метод главных компонент\n",
    "from sklearn.decomposition import PCA\n",
    "#  для таймера\n",
    "import time\n",
    "# для перекрёстной проверки и сеточного поиска\n",
    "from sklearn.model_selection import KFold, GridSearchCV\n",
    "# случайный лес\n",
    "from sklearn.ensemble import RandomForestClassifier\n",
    "#  дерево классификации\n",
    "from sklearn.tree import DecisionTreeClassifier, export_text, plot_tree\n",
    "# бэггинг\n",
    "from sklearn.ensemble import BaggingClassifier\n",
    "# kNN\n",
    "from sklearn.neighbors import KNeighborsClassifier\n",
    "from sklearn.pipeline import Pipeline\n",
    "# конвейеры\n",
    "from sklearn.pipeline import make_pipeline\n",
    "# перекрёстная проверка и метод проверочной выборки \n",
    "from sklearn.model_selection import cross_val_score\n"
   ]
  },
  {
   "cell_type": "code",
   "execution_count": 2,
   "metadata": {},
   "outputs": [],
   "source": [
    "# константы\n",
    "#  ядро для генератора случайных чисел\n",
    "my_seed = 13"
   ]
  },
  {
   "cell_type": "code",
   "execution_count": 3,
   "metadata": {},
   "outputs": [
    {
     "name": "stdout",
     "output_type": "stream",
     "text": [
      "Число строк и столбцов в наборе данных:\n",
      " (30000, 24)\n"
     ]
    }
   ],
   "source": [
    "# загружаем таблицу и превращаем её во фрейм\n",
    "fileURL = 'https://raw.githubusercontent.com/ania607/ML/main/data/default_of_credit_card_clients.csv'\n",
    "DF_all = pd.read_csv(fileURL)\n",
    "\n",
    "# выясняем размерность фрейма\n",
    "print('Число строк и столбцов в наборе данных:\\n', DF_all.shape)\n",
    "\n",
    "# наблюдения для моделирования\n",
    "DF = DF_all.sample(frac=0.85, random_state=my_seed)\n",
    "# отложенные наблюдения\n",
    "DF_predict = DF_all.drop(DF.index)"
   ]
  },
  {
   "cell_type": "code",
   "execution_count": 4,
   "metadata": {},
   "outputs": [
    {
     "data": {
      "text/plain": [
       "LIMIT_BAL    0\n",
       "SEX          0\n",
       "EDUCATION    0\n",
       "MARRIAGE     0\n",
       "AGE          0\n",
       "PAY_0        0\n",
       "PAY_2        0\n",
       "PAY_3        0\n",
       "PAY_4        0\n",
       "PAY_5        0\n",
       "PAY_6        0\n",
       "BILL_AMT1    0\n",
       "BILL_AMT2    0\n",
       "BILL_AMT3    0\n",
       "BILL_AMT4    0\n",
       "BILL_AMT5    0\n",
       "BILL_AMT6    0\n",
       "PAY_AMT1     0\n",
       "PAY_AMT2     0\n",
       "PAY_AMT3     0\n",
       "PAY_AMT4     0\n",
       "PAY_AMT5     0\n",
       "PAY_AMT6     0\n",
       "Y            0\n",
       "dtype: int64"
      ]
     },
     "execution_count": 4,
     "metadata": {},
     "output_type": "execute_result"
    }
   ],
   "source": [
    "# считаем пропуски в каждом столбце\n",
    "DF_all.isna().sum()"
   ]
  },
  {
   "cell_type": "markdown",
   "metadata": {},
   "source": [
    "Пропусков не обнаружено"
   ]
  },
  {
   "cell_type": "code",
   "execution_count": 5,
   "metadata": {},
   "outputs": [
    {
     "data": {
      "text/html": [
       "<div>\n",
       "<style scoped>\n",
       "    .dataframe tbody tr th:only-of-type {\n",
       "        vertical-align: middle;\n",
       "    }\n",
       "\n",
       "    .dataframe tbody tr th {\n",
       "        vertical-align: top;\n",
       "    }\n",
       "\n",
       "    .dataframe thead th {\n",
       "        text-align: right;\n",
       "    }\n",
       "</style>\n",
       "<table border=\"1\" class=\"dataframe\">\n",
       "  <thead>\n",
       "    <tr style=\"text-align: right;\">\n",
       "      <th></th>\n",
       "      <th>LIMIT_BAL</th>\n",
       "      <th>SEX</th>\n",
       "      <th>EDUCATION</th>\n",
       "      <th>MARRIAGE</th>\n",
       "      <th>AGE</th>\n",
       "      <th>PAY_0</th>\n",
       "      <th>PAY_2</th>\n",
       "      <th>PAY_3</th>\n",
       "      <th>PAY_4</th>\n",
       "      <th>PAY_5</th>\n",
       "      <th>...</th>\n",
       "      <th>BILL_AMT4</th>\n",
       "      <th>BILL_AMT5</th>\n",
       "      <th>BILL_AMT6</th>\n",
       "      <th>PAY_AMT1</th>\n",
       "      <th>PAY_AMT2</th>\n",
       "      <th>PAY_AMT3</th>\n",
       "      <th>PAY_AMT4</th>\n",
       "      <th>PAY_AMT5</th>\n",
       "      <th>PAY_AMT6</th>\n",
       "      <th>Y</th>\n",
       "    </tr>\n",
       "  </thead>\n",
       "  <tbody>\n",
       "    <tr>\n",
       "      <th>count</th>\n",
       "      <td>25500.000000</td>\n",
       "      <td>25500.000000</td>\n",
       "      <td>25500.000000</td>\n",
       "      <td>25500.000000</td>\n",
       "      <td>25500.000000</td>\n",
       "      <td>25500.000000</td>\n",
       "      <td>25500.000000</td>\n",
       "      <td>25500.000000</td>\n",
       "      <td>25500.000000</td>\n",
       "      <td>25500.000000</td>\n",
       "      <td>...</td>\n",
       "      <td>25500.000000</td>\n",
       "      <td>25500.000000</td>\n",
       "      <td>25500.000000</td>\n",
       "      <td>25500.000000</td>\n",
       "      <td>2.550000e+04</td>\n",
       "      <td>25500.000000</td>\n",
       "      <td>25500.000000</td>\n",
       "      <td>25500.000000</td>\n",
       "      <td>25500.000000</td>\n",
       "      <td>25500.000000</td>\n",
       "    </tr>\n",
       "    <tr>\n",
       "      <th>mean</th>\n",
       "      <td>167848.614902</td>\n",
       "      <td>1.604510</td>\n",
       "      <td>1.854078</td>\n",
       "      <td>1.551137</td>\n",
       "      <td>35.473647</td>\n",
       "      <td>-0.019294</td>\n",
       "      <td>-0.136745</td>\n",
       "      <td>-0.171020</td>\n",
       "      <td>-0.226353</td>\n",
       "      <td>-0.272706</td>\n",
       "      <td>...</td>\n",
       "      <td>43011.959020</td>\n",
       "      <td>40047.777804</td>\n",
       "      <td>38657.944118</td>\n",
       "      <td>5721.081059</td>\n",
       "      <td>5.912399e+03</td>\n",
       "      <td>5195.790706</td>\n",
       "      <td>4851.610588</td>\n",
       "      <td>4847.703137</td>\n",
       "      <td>5248.818863</td>\n",
       "      <td>0.219216</td>\n",
       "    </tr>\n",
       "    <tr>\n",
       "      <th>std</th>\n",
       "      <td>129894.926164</td>\n",
       "      <td>0.488965</td>\n",
       "      <td>0.791689</td>\n",
       "      <td>0.521709</td>\n",
       "      <td>9.224644</td>\n",
       "      <td>1.125633</td>\n",
       "      <td>1.197933</td>\n",
       "      <td>1.193489</td>\n",
       "      <td>1.167079</td>\n",
       "      <td>1.131698</td>\n",
       "      <td>...</td>\n",
       "      <td>63681.324672</td>\n",
       "      <td>60026.412733</td>\n",
       "      <td>59003.614301</td>\n",
       "      <td>16819.669309</td>\n",
       "      <td>2.259416e+04</td>\n",
       "      <td>16745.180224</td>\n",
       "      <td>15980.476266</td>\n",
       "      <td>15559.835697</td>\n",
       "      <td>17901.580110</td>\n",
       "      <td>0.413723</td>\n",
       "    </tr>\n",
       "    <tr>\n",
       "      <th>min</th>\n",
       "      <td>10000.000000</td>\n",
       "      <td>1.000000</td>\n",
       "      <td>0.000000</td>\n",
       "      <td>0.000000</td>\n",
       "      <td>21.000000</td>\n",
       "      <td>-2.000000</td>\n",
       "      <td>-2.000000</td>\n",
       "      <td>-2.000000</td>\n",
       "      <td>-2.000000</td>\n",
       "      <td>-2.000000</td>\n",
       "      <td>...</td>\n",
       "      <td>-170000.000000</td>\n",
       "      <td>-81334.000000</td>\n",
       "      <td>-339603.000000</td>\n",
       "      <td>0.000000</td>\n",
       "      <td>0.000000e+00</td>\n",
       "      <td>0.000000</td>\n",
       "      <td>0.000000</td>\n",
       "      <td>0.000000</td>\n",
       "      <td>0.000000</td>\n",
       "      <td>0.000000</td>\n",
       "    </tr>\n",
       "    <tr>\n",
       "      <th>25%</th>\n",
       "      <td>50000.000000</td>\n",
       "      <td>1.000000</td>\n",
       "      <td>1.000000</td>\n",
       "      <td>1.000000</td>\n",
       "      <td>28.000000</td>\n",
       "      <td>-1.000000</td>\n",
       "      <td>-1.000000</td>\n",
       "      <td>-1.000000</td>\n",
       "      <td>-1.000000</td>\n",
       "      <td>-1.000000</td>\n",
       "      <td>...</td>\n",
       "      <td>2280.000000</td>\n",
       "      <td>1740.750000</td>\n",
       "      <td>1242.000000</td>\n",
       "      <td>1000.000000</td>\n",
       "      <td>8.360000e+02</td>\n",
       "      <td>390.000000</td>\n",
       "      <td>298.750000</td>\n",
       "      <td>243.750000</td>\n",
       "      <td>108.750000</td>\n",
       "      <td>0.000000</td>\n",
       "    </tr>\n",
       "    <tr>\n",
       "      <th>50%</th>\n",
       "      <td>140000.000000</td>\n",
       "      <td>2.000000</td>\n",
       "      <td>2.000000</td>\n",
       "      <td>2.000000</td>\n",
       "      <td>34.000000</td>\n",
       "      <td>0.000000</td>\n",
       "      <td>0.000000</td>\n",
       "      <td>0.000000</td>\n",
       "      <td>0.000000</td>\n",
       "      <td>0.000000</td>\n",
       "      <td>...</td>\n",
       "      <td>19010.000000</td>\n",
       "      <td>18067.000000</td>\n",
       "      <td>17001.500000</td>\n",
       "      <td>2111.500000</td>\n",
       "      <td>2.010000e+03</td>\n",
       "      <td>1826.500000</td>\n",
       "      <td>1500.000000</td>\n",
       "      <td>1500.000000</td>\n",
       "      <td>1500.000000</td>\n",
       "      <td>0.000000</td>\n",
       "    </tr>\n",
       "    <tr>\n",
       "      <th>75%</th>\n",
       "      <td>240000.000000</td>\n",
       "      <td>2.000000</td>\n",
       "      <td>2.000000</td>\n",
       "      <td>2.000000</td>\n",
       "      <td>41.000000</td>\n",
       "      <td>0.000000</td>\n",
       "      <td>0.000000</td>\n",
       "      <td>0.000000</td>\n",
       "      <td>0.000000</td>\n",
       "      <td>0.000000</td>\n",
       "      <td>...</td>\n",
       "      <td>54429.500000</td>\n",
       "      <td>50065.250000</td>\n",
       "      <td>49162.750000</td>\n",
       "      <td>5015.000000</td>\n",
       "      <td>5.000000e+03</td>\n",
       "      <td>4512.750000</td>\n",
       "      <td>4027.000000</td>\n",
       "      <td>4064.250000</td>\n",
       "      <td>4000.000000</td>\n",
       "      <td>0.000000</td>\n",
       "    </tr>\n",
       "    <tr>\n",
       "      <th>max</th>\n",
       "      <td>800000.000000</td>\n",
       "      <td>2.000000</td>\n",
       "      <td>6.000000</td>\n",
       "      <td>3.000000</td>\n",
       "      <td>79.000000</td>\n",
       "      <td>8.000000</td>\n",
       "      <td>8.000000</td>\n",
       "      <td>8.000000</td>\n",
       "      <td>8.000000</td>\n",
       "      <td>8.000000</td>\n",
       "      <td>...</td>\n",
       "      <td>706864.000000</td>\n",
       "      <td>587067.000000</td>\n",
       "      <td>699944.000000</td>\n",
       "      <td>873552.000000</td>\n",
       "      <td>1.684259e+06</td>\n",
       "      <td>889043.000000</td>\n",
       "      <td>621000.000000</td>\n",
       "      <td>426529.000000</td>\n",
       "      <td>528666.000000</td>\n",
       "      <td>1.000000</td>\n",
       "    </tr>\n",
       "  </tbody>\n",
       "</table>\n",
       "<p>8 rows × 24 columns</p>\n",
       "</div>"
      ],
      "text/plain": [
       "           LIMIT_BAL           SEX     EDUCATION      MARRIAGE           AGE  \\\n",
       "count   25500.000000  25500.000000  25500.000000  25500.000000  25500.000000   \n",
       "mean   167848.614902      1.604510      1.854078      1.551137     35.473647   \n",
       "std    129894.926164      0.488965      0.791689      0.521709      9.224644   \n",
       "min     10000.000000      1.000000      0.000000      0.000000     21.000000   \n",
       "25%     50000.000000      1.000000      1.000000      1.000000     28.000000   \n",
       "50%    140000.000000      2.000000      2.000000      2.000000     34.000000   \n",
       "75%    240000.000000      2.000000      2.000000      2.000000     41.000000   \n",
       "max    800000.000000      2.000000      6.000000      3.000000     79.000000   \n",
       "\n",
       "              PAY_0         PAY_2         PAY_3         PAY_4         PAY_5  \\\n",
       "count  25500.000000  25500.000000  25500.000000  25500.000000  25500.000000   \n",
       "mean      -0.019294     -0.136745     -0.171020     -0.226353     -0.272706   \n",
       "std        1.125633      1.197933      1.193489      1.167079      1.131698   \n",
       "min       -2.000000     -2.000000     -2.000000     -2.000000     -2.000000   \n",
       "25%       -1.000000     -1.000000     -1.000000     -1.000000     -1.000000   \n",
       "50%        0.000000      0.000000      0.000000      0.000000      0.000000   \n",
       "75%        0.000000      0.000000      0.000000      0.000000      0.000000   \n",
       "max        8.000000      8.000000      8.000000      8.000000      8.000000   \n",
       "\n",
       "       ...      BILL_AMT4      BILL_AMT5      BILL_AMT6       PAY_AMT1  \\\n",
       "count  ...   25500.000000   25500.000000   25500.000000   25500.000000   \n",
       "mean   ...   43011.959020   40047.777804   38657.944118    5721.081059   \n",
       "std    ...   63681.324672   60026.412733   59003.614301   16819.669309   \n",
       "min    ... -170000.000000  -81334.000000 -339603.000000       0.000000   \n",
       "25%    ...    2280.000000    1740.750000    1242.000000    1000.000000   \n",
       "50%    ...   19010.000000   18067.000000   17001.500000    2111.500000   \n",
       "75%    ...   54429.500000   50065.250000   49162.750000    5015.000000   \n",
       "max    ...  706864.000000  587067.000000  699944.000000  873552.000000   \n",
       "\n",
       "           PAY_AMT2       PAY_AMT3       PAY_AMT4       PAY_AMT5  \\\n",
       "count  2.550000e+04   25500.000000   25500.000000   25500.000000   \n",
       "mean   5.912399e+03    5195.790706    4851.610588    4847.703137   \n",
       "std    2.259416e+04   16745.180224   15980.476266   15559.835697   \n",
       "min    0.000000e+00       0.000000       0.000000       0.000000   \n",
       "25%    8.360000e+02     390.000000     298.750000     243.750000   \n",
       "50%    2.010000e+03    1826.500000    1500.000000    1500.000000   \n",
       "75%    5.000000e+03    4512.750000    4027.000000    4064.250000   \n",
       "max    1.684259e+06  889043.000000  621000.000000  426529.000000   \n",
       "\n",
       "            PAY_AMT6             Y  \n",
       "count   25500.000000  25500.000000  \n",
       "mean     5248.818863      0.219216  \n",
       "std     17901.580110      0.413723  \n",
       "min         0.000000      0.000000  \n",
       "25%       108.750000      0.000000  \n",
       "50%      1500.000000      0.000000  \n",
       "75%      4000.000000      0.000000  \n",
       "max    528666.000000      1.000000  \n",
       "\n",
       "[8 rows x 24 columns]"
      ]
     },
     "execution_count": 5,
     "metadata": {},
     "output_type": "execute_result"
    }
   ],
   "source": [
    "DF.describe()"
   ]
  },
  {
   "cell_type": "markdown",
   "metadata": {},
   "source": [
    "# Преобразование исходных данных и построение моделей\n",
    "## Стандартизация и переход к главным компонентам\n",
    "\n",
    "Предварительно преобразуем пространство исходных показателей с помощью метода главных компонент"
   ]
  },
  {
   "cell_type": "code",
   "execution_count": 6,
   "metadata": {},
   "outputs": [
    {
     "name": "stdout",
     "output_type": "stream",
     "text": [
      "Столбец 0: среднее = -0.0   Станд. отклонение = 1.0\n",
      "Столбец 1: среднее = 0.0   Станд. отклонение = 1.0\n",
      "Столбец 2: среднее = -0.0   Станд. отклонение = 1.0\n",
      "Столбец 3: среднее = -0.0   Станд. отклонение = 1.0\n",
      "Столбец 4: среднее = -0.0   Станд. отклонение = 1.0\n",
      "Столбец 5: среднее = -0.0   Станд. отклонение = 1.0\n",
      "Столбец 6: среднее = 0.0   Станд. отклонение = 1.0\n",
      "Столбец 7: среднее = -0.0   Станд. отклонение = 1.0\n",
      "Столбец 8: среднее = 0.0   Станд. отклонение = 1.0\n",
      "Столбец 9: среднее = -0.0   Станд. отклонение = 1.0\n",
      "Столбец 10: среднее = 0.0   Станд. отклонение = 1.0\n",
      "Столбец 11: среднее = 0.0   Станд. отклонение = 1.0\n",
      "Столбец 12: среднее = -0.0   Станд. отклонение = 1.0\n",
      "Столбец 13: среднее = 0.0   Станд. отклонение = 1.0\n",
      "Столбец 14: среднее = 0.0   Станд. отклонение = 1.0\n",
      "Столбец 15: среднее = -0.0   Станд. отклонение = 1.0\n",
      "Столбец 16: среднее = 0.0   Станд. отклонение = 1.0\n",
      "Столбец 17: среднее = 0.0   Станд. отклонение = 1.0\n",
      "Столбец 18: среднее = 0.0   Станд. отклонение = 1.0\n",
      "Столбец 19: среднее = -0.0   Станд. отклонение = 1.0\n",
      "Столбец 20: среднее = 0.0   Станд. отклонение = 1.0\n",
      "Столбец 21: среднее = 0.0   Станд. отклонение = 1.0\n",
      "Столбец 22: среднее = -0.0   Станд. отклонение = 1.0\n",
      "Столбец 23: среднее = -0.0   Станд. отклонение = 1.0\n"
     ]
    }
   ],
   "source": [
    "# стандартизация\n",
    "sc = StandardScaler()\n",
    "X_train_std = sc.fit_transform(DF.iloc[:, :24].values)\n",
    "\n",
    "# проверяем средние и стандартные отклонения после стандартизации\n",
    "for i_col in range(X_train_std.shape[1]) :\n",
    "    print('Столбец ', i_col, ': среднее = ',\n",
    "          np.round(np.mean(X_train_std[:, i_col]), 2),\n",
    "         '   Станд. отклонение = ', \n",
    "          np.round(np.std(X_train_std[:, i_col]), 2), sep='')"
   ]
  },
  {
   "cell_type": "markdown",
   "metadata": {},
   "source": [
    "## Регрессия на главные компоненты (PCR)  \n",
    "\n",
    "Пересчитаем объясняющие показатели в главные компоненты.  "
   ]
  },
  {
   "cell_type": "code",
   "execution_count": 7,
   "metadata": {},
   "outputs": [
    {
     "name": "stdout",
     "output_type": "stream",
     "text": [
      "Доли объяснённой дисперсии по компонентам в PLS:\n",
      " [0.272 0.175 0.065 0.062 0.044 0.04  0.038 0.038 0.037 0.035 0.032 0.031\n",
      " 0.026 0.024 0.022 0.017 0.011 0.011 0.008 0.006 0.003 0.002 0.001 0.001] \n",
      "Общая сумма долей: 1.0\n"
     ]
    }
   ],
   "source": [
    "# функция с методом главных компонент\n",
    "pca = PCA()\n",
    "# пересчитываем в главные компоненты (ГК)\n",
    "X_train_pca = pca.fit_transform(X_train_std)\n",
    "\n",
    "# считаем доли объяснённой дисперсии\n",
    "frac_var_expl = pca.explained_variance_ratio_\n",
    "print('Доли объяснённой дисперсии по компонентам в PLS:\\n',\n",
    "     np.around(frac_var_expl, 3),\n",
    "     '\\nОбщая сумма долей:', np.around(sum(frac_var_expl), 3))"
   ]
  },
  {
   "cell_type": "markdown",
   "metadata": {},
   "source": [
    "Первые четыре главные компоненты объясняют более 50% разброса"
   ]
  },
  {
   "cell_type": "code",
   "execution_count": 8,
   "metadata": {},
   "outputs": [
    {
     "name": "stdout",
     "output_type": "stream",
     "text": [
      "Acc с перекрёстной проверкой \n",
      "для модели pca_logit : 0.796\n"
     ]
    }
   ],
   "source": [
    "# данные для обучения моделей\n",
    "X_train = DF.iloc[:, :11] \n",
    "Y_train = DF.iloc[:, -1]\n",
    "\n",
    "# объединяем в конвейер шкалирование, ГК с 2 компонентами и логит\n",
    "pipe_lr = make_pipeline(StandardScaler(),\n",
    "                        PCA(n_components = 4),\n",
    "                        LogisticRegression(random_state = my_seed, \n",
    "                                           solver = 'lbfgs'))\n",
    "\n",
    "# будем сохранять точность моделей в один массив\n",
    "score = list()\n",
    "score_models = list()\n",
    "\n",
    "# считаем точность с перекрёстной проверкой, показатель Acc\n",
    "cv = cross_val_score(estimator = pipe_lr, X = X_train, y = Y_train, \n",
    "                     cv = 5, scoring='accuracy')\n",
    "\n",
    "# записываем точность\n",
    "score.append(np.around(np.mean(cv), 3)) \n",
    "score_models.append('pca_logit')\n",
    "\n",
    "print('Acc с перекрёстной проверкой',\n",
    "      '\\nдля модели', score_models[0], ':', score[0])"
   ]
  },
  {
   "cell_type": "markdown",
   "metadata": {},
   "source": [
    "# Случайный лес  \n",
    "\n",
    "У модели случайного леса два настроечных параметра: количество деревьев $B$ и количество признаков для построения отдельного дерева $m$. Настроим сеточный поиск для их подбора.  "
   ]
  },
  {
   "cell_type": "code",
   "execution_count": 9,
   "metadata": {},
   "outputs": [
    {
     "data": {
      "text/plain": [
       "array([23, 12,  5,  5])"
      ]
     },
     "execution_count": 9,
     "metadata": {},
     "output_type": "execute_result"
    }
   ],
   "source": [
    "X = DF.drop(['Y'], axis=1)\n",
    "Y = DF['Y']\n",
    "\n",
    "# сколько столбцов в обучающих данных (p)\n",
    "X_m = X.shape[1]\n",
    "# возьмём значения для m: p, p/2, sqrt(p) и log2(p)\n",
    "ms = np.around([X_m, X_m / 2, np.sqrt(X_m), np.log2(X_m)]).astype(int)\n",
    "ms"
   ]
  },
  {
   "cell_type": "code",
   "execution_count": 10,
   "metadata": {},
   "outputs": [
    {
     "name": "stdout",
     "output_type": "stream",
     "text": [
      "Сеточный поиск занял 4136.02 секунд\n"
     ]
    }
   ],
   "source": [
    "# разбиения для перекрёстной проверки\n",
    "kfold = KFold(n_splits=10, random_state=my_seed, shuffle=True)\n",
    "\n",
    "# настроим параметры случайного леса с помощью сеточного поиска\n",
    "param_grid = {'n_estimators' : list(range(10, 51, 2)),\n",
    "              'max_features' : ms}\n",
    "\n",
    "# таймер\n",
    "tic = time.perf_counter()\n",
    "clf = GridSearchCV(RandomForestClassifier(DecisionTreeClassifier()),\n",
    "                   param_grid, scoring='accuracy', cv=kfold)\n",
    "random_forest = clf.fit(X, Y)\n",
    "# таймер\n",
    "toc = time.perf_counter()\n",
    "print(f\"Сеточный поиск занял {toc - tic:0.2f} секунд\", sep='')"
   ]
  },
  {
   "cell_type": "code",
   "execution_count": 11,
   "metadata": {},
   "outputs": [
    {
     "data": {
      "text/plain": [
       "0.817"
      ]
     },
     "execution_count": 11,
     "metadata": {},
     "output_type": "execute_result"
    }
   ],
   "source": [
    "# точность лучшей модели\n",
    "np.around(random_forest.best_score_, 3)"
   ]
  },
  {
   "cell_type": "code",
   "execution_count": 12,
   "metadata": {},
   "outputs": [
    {
     "name": "stdout",
     "output_type": "stream",
     "text": [
      "Acc с перекрёстной проверкой \n",
      "для модели random_forest_GS : 0.817\n"
     ]
    }
   ],
   "source": [
    "# записываем точность\n",
    "score.append(np.around(random_forest.best_score_, 3))\n",
    "score_models.append('random_forest_GS')\n",
    "\n",
    "print('Acc с перекрёстной проверкой',\n",
    "      '\\nдля модели', score_models[1], ':', score[1])"
   ]
  },
  {
   "cell_type": "markdown",
   "metadata": {},
   "source": [
    "# Метод kNN\n",
    "\n",
    "Реализуем метод k-ближайших соседей с преобразованием PCA."
   ]
  },
  {
   "cell_type": "code",
   "execution_count": 13,
   "metadata": {},
   "outputs": [
    {
     "name": "stdout",
     "output_type": "stream",
     "text": [
      "Сеточный поиск занял 164.75 секунд\n"
     ]
    }
   ],
   "source": [
    "k_range = list(range(1,50))\n",
    "weight_options = [\"uniform\", \"distance\"]\n",
    "\n",
    "pipe_knn = Pipeline(steps=[('standard', StandardScaler()), ('PCA', PCA(n_components = 10)), \n",
    "                           ('knn', KNeighborsClassifier())])\n",
    "param_grid = {'knn__n_neighbors': list(range(1,50))}\n",
    "\n",
    "knn = KNeighborsClassifier()\n",
    "kfold = KFold(n_splits = 10, random_state = my_seed, shuffle = True)\n",
    "grid = GridSearchCV(pipe_knn, param_grid, cv=kfold, scoring='accuracy')\n",
    "\n",
    "tic = time.perf_counter()\n",
    "grid.fit(X_train,Y_train)\n",
    "toc = time.perf_counter()\n",
    "print(f\"Сеточный поиск занял {toc - tic:0.2f} секунд\", sep='')"
   ]
  },
  {
   "cell_type": "code",
   "execution_count": 14,
   "metadata": {},
   "outputs": [
    {
     "name": "stdout",
     "output_type": "stream",
     "text": [
      "Acc с перекрёстной проверкой \n",
      "для модели sc_pca_knn : 0.816\n"
     ]
    }
   ],
   "source": [
    "score.append(np.around(grid.best_score_,3))\n",
    "score_models.append('sc_pca_knn')\n",
    "\n",
    "print('Acc с перекрёстной проверкой','\\nдля модели',score_models[2],':',score[2])"
   ]
  },
  {
   "cell_type": "markdown",
   "metadata": {},
   "source": [
    "\n",
    "# Прогноз на отложенные наблюдения по лучшей модели\n",
    "\n",
    "Ещё раз посмотрим на точность построенных моделей. "
   ]
  },
  {
   "cell_type": "code",
   "execution_count": 15,
   "metadata": {},
   "outputs": [
    {
     "data": {
      "text/html": [
       "<div>\n",
       "<style scoped>\n",
       "    .dataframe tbody tr th:only-of-type {\n",
       "        vertical-align: middle;\n",
       "    }\n",
       "\n",
       "    .dataframe tbody tr th {\n",
       "        vertical-align: top;\n",
       "    }\n",
       "\n",
       "    .dataframe thead th {\n",
       "        text-align: right;\n",
       "    }\n",
       "</style>\n",
       "<table border=\"1\" class=\"dataframe\">\n",
       "  <thead>\n",
       "    <tr style=\"text-align: right;\">\n",
       "      <th></th>\n",
       "      <th>Модель</th>\n",
       "      <th>Acc</th>\n",
       "    </tr>\n",
       "  </thead>\n",
       "  <tbody>\n",
       "    <tr>\n",
       "      <th>0</th>\n",
       "      <td>pca_logit</td>\n",
       "      <td>0.796</td>\n",
       "    </tr>\n",
       "    <tr>\n",
       "      <th>1</th>\n",
       "      <td>random_forest_GS</td>\n",
       "      <td>0.817</td>\n",
       "    </tr>\n",
       "    <tr>\n",
       "      <th>2</th>\n",
       "      <td>sc_pca_knn</td>\n",
       "      <td>0.816</td>\n",
       "    </tr>\n",
       "  </tbody>\n",
       "</table>\n",
       "</div>"
      ],
      "text/plain": [
       "             Модель    Acc\n",
       "0         pca_logit  0.796\n",
       "1  random_forest_GS  0.817\n",
       "2        sc_pca_knn  0.816"
      ]
     },
     "execution_count": 15,
     "metadata": {},
     "output_type": "execute_result"
    }
   ],
   "source": [
    "# сводка по точности моделей\n",
    "pd.DataFrame({'Модель' : score_models, 'Acc' : score})"
   ]
  },
  {
   "cell_type": "markdown",
   "metadata": {},
   "source": [
    "Все модели показывают хорошую точность по показателю $Acc$, при этом самой точной оказывается модель random_. Сделаем прогноз на отложенные наблюдения.   "
   ]
  },
  {
   "cell_type": "code",
   "execution_count": 16,
   "metadata": {},
   "outputs": [
    {
     "name": "stdout",
     "output_type": "stream",
     "text": [
      "              precision    recall  f1-score   support\n",
      "\n",
      "           0       0.83      0.95      0.89      3454\n",
      "           1       0.67      0.36      0.47      1046\n",
      "\n",
      "    accuracy                           0.81      4500\n",
      "   macro avg       0.75      0.66      0.68      4500\n",
      "weighted avg       0.79      0.81      0.79      4500\n",
      "\n"
     ]
    }
   ],
   "source": [
    "# данные для прогноза\n",
    "X_pred = DF_predict.drop(['Y'], axis=1)\n",
    "# строим прогноз\n",
    "Y_hat = random_forest.best_estimator_.predict(X_pred)\n",
    "# характеристики точности\n",
    "print(classification_report(DF_predict['Y'], Y_hat))"
   ]
  },
  {
   "cell_type": "code",
   "execution_count": null,
   "metadata": {},
   "outputs": [],
   "source": []
  }
 ],
 "metadata": {
  "kernelspec": {
   "display_name": "envformo",
   "language": "python",
   "name": "myenv"
  },
  "language_info": {
   "codemirror_mode": {
    "name": "ipython",
    "version": 3
   },
   "file_extension": ".py",
   "mimetype": "text/x-python",
   "name": "python",
   "nbconvert_exporter": "python",
   "pygments_lexer": "ipython3",
   "version": "3.9.12"
  },
  "vscode": {
   "interpreter": {
    "hash": "429b82198d9e5c2ae661da6b77875d76d88f8e4a7a46ff2af3287192e322275c"
   }
  }
 },
 "nbformat": 4,
 "nbformat_minor": 2
}
